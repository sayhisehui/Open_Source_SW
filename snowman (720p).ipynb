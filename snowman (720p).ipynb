{
 "cells": [
  {
   "cell_type": "code",
   "execution_count": 5,
   "id": "e4c2f8df",
   "metadata": {},
   "outputs": [],
   "source": [
    "import cv2\n",
    "\n",
    "video_file='C:/Users/sehui/OSS/Final Term Project/snowman (720p).mp4'\n",
    "cap=cv2.VideoCapture(video_file)\n",
    "\n",
    "face_cascade=cv2.CascadeClassifier('haarcascade_frontalface_default.xml')"
   ]
  },
  {
   "cell_type": "code",
   "execution_count": 6,
   "id": "2d5e1202",
   "metadata": {},
   "outputs": [],
   "source": [
    "while (cap.isOpened()):\n",
    "    ret, frame=cap.read()\n",
    "    if ret:\n",
    "        gray=cv2.cvtColor(frame, cv2.COLOR_BGR2GRAY)\n",
    "        faces=face_cascade.detectMultiScale(gray, 1.1, 10, minSize=(80,80))\n",
    "        \n",
    "        for (x,y,w,h) in faces:\n",
    "            cv2.rectangle(frame, (x,y), (x+w,y+h), (255, 0, 0), 2)\n",
    "            \n",
    "        cv2.imshow('Video', frame)\n",
    "        \n",
    "        if cv2.waitKey(2)&0xFF ==ord('q'):\n",
    "            break\n",
    "    else:\n",
    "        break\n",
    "\n",
    "cap.release()\n",
    "cv2.destroyAllWindows()\n",
    "\n",
    "#조명이 밝아져 이목구비가 또렷해질 때\n",
    "#눈사람의 눈,코,입도 얼굴로 인식한다.\n",
    "#단, 정면을 바라보고 있는 눈사람만 인식이 가능하다.\n",
    "#로봇보단 그 성능이 좋다."
   ]
  }
 ],
 "metadata": {
  "kernelspec": {
   "display_name": "Python 3 (ipykernel)",
   "language": "python",
   "name": "python3"
  },
  "language_info": {
   "codemirror_mode": {
    "name": "ipython",
    "version": 3
   },
   "file_extension": ".py",
   "mimetype": "text/x-python",
   "name": "python",
   "nbconvert_exporter": "python",
   "pygments_lexer": "ipython3",
   "version": "3.9.13"
  }
 },
 "nbformat": 4,
 "nbformat_minor": 5
}
